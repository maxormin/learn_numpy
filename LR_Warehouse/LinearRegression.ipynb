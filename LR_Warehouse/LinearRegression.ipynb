{
 "cells": [
  {
   "cell_type": "code",
   "execution_count": 1,
   "id": "680c2226",
   "metadata": {},
   "outputs": [],
   "source": [
    "from sklearn.linear_model import LinearRegression\n",
    "import numpy as np\n",
    "import pandas as pd\n",
    "from sklearn.datasets import load_boston\n",
    "from sklearn.metrics import mean_squared_error,mean_absolute_error\n",
    "from sklearn.model_selection import train_test_split\n",
    "\n",
    "import warnings\n",
    "warnings.filterwarnings('ignore')"
   ]
  },
  {
   "cell_type": "code",
   "execution_count": 2,
   "id": "ce434fe9",
   "metadata": {},
   "outputs": [],
   "source": [
    "def fit(x,y):\n",
    "    b = np.ones((1, len(x)))\n",
    "    X = np.insert(x, 0, values=b, axis=1)\n",
    "    seta = np.dot(np.dot(np.linalg.inv(np.dot(X.T, X)), X.T), y)\n",
    "    return seta\n",
    "\n",
    "def predict(x,seta):\n",
    "    b = np.ones((1, len(x)))\n",
    "    X = np.insert(x, 0, values=b, axis=1)\n",
    "    return np.dot(X, seta)"
   ]
  },
  {
   "cell_type": "code",
   "execution_count": 3,
   "id": "4b8b5bd3",
   "metadata": {},
   "outputs": [],
   "source": [
    "boston = load_boston()\n",
    "X = boston.data\n",
    "y = boston.target\n",
    "data = pd.DataFrame(X,columns=boston.feature_names)"
   ]
  },
  {
   "cell_type": "code",
   "execution_count": 4,
   "id": "7e939ae5",
   "metadata": {},
   "outputs": [],
   "source": [
    "X_train,X_test,Y_train,Y_test = train_test_split(data.values,y,test_size=0.2,random_state=2022)"
   ]
  },
  {
   "cell_type": "code",
   "execution_count": 5,
   "id": "0578e049",
   "metadata": {},
   "outputs": [
    {
     "data": {
      "text/plain": [
       "26.985"
      ]
     },
     "execution_count": 5,
     "metadata": {},
     "output_type": "execute_result"
    }
   ],
   "source": [
    "seta = fit(X_train,Y_train)\n",
    "pre_y = predict(X_test,seta)\n",
    "mse = round(mean_squared_error(pre_y,Y_test),3)\n",
    "mse"
   ]
  },
  {
   "cell_type": "code",
   "execution_count": 6,
   "id": "259aa5f7",
   "metadata": {},
   "outputs": [
    {
     "data": {
      "text/plain": [
       "3.92"
      ]
     },
     "execution_count": 6,
     "metadata": {},
     "output_type": "execute_result"
    }
   ],
   "source": [
    "mae = round(mean_absolute_error(pre_y,Y_test),3)\n",
    "mae"
   ]
  },
  {
   "cell_type": "code",
   "execution_count": 7,
   "id": "41c5d6a9",
   "metadata": {},
   "outputs": [
    {
     "data": {
      "text/plain": [
       "26.985"
      ]
     },
     "execution_count": 7,
     "metadata": {},
     "output_type": "execute_result"
    }
   ],
   "source": [
    "model = LinearRegression()\n",
    "model.fit(X_train,Y_train)\n",
    "SL_pre_y = model.predict(X_test)\n",
    "model_mse = round(mean_squared_error(SL_pre_y,Y_test),3)\n",
    "model_mse"
   ]
  },
  {
   "cell_type": "code",
   "execution_count": 8,
   "id": "0022aa19",
   "metadata": {},
   "outputs": [
    {
     "data": {
      "text/plain": [
       "3.92"
      ]
     },
     "execution_count": 8,
     "metadata": {},
     "output_type": "execute_result"
    }
   ],
   "source": [
    "model_mae = round(mean_absolute_error(SL_pre_y,Y_test),3)\n",
    "model_mae"
   ]
  },
  {
   "cell_type": "code",
   "execution_count": 9,
   "id": "f5538424",
   "metadata": {},
   "outputs": [
    {
     "data": {
      "text/plain": [
       "0.0"
      ]
     },
     "execution_count": 9,
     "metadata": {},
     "output_type": "execute_result"
    }
   ],
   "source": [
    "round(mean_squared_error(pre_y,SL_pre_y),3)"
   ]
  },
  {
   "cell_type": "code",
   "execution_count": 10,
   "id": "d82fca0a",
   "metadata": {},
   "outputs": [
    {
     "data": {
      "text/plain": [
       "0.0"
      ]
     },
     "execution_count": 10,
     "metadata": {},
     "output_type": "execute_result"
    }
   ],
   "source": [
    "round(mean_absolute_error(pre_y,SL_pre_y),3)"
   ]
  }
 ],
 "metadata": {
  "kernelspec": {
   "display_name": "Python 3 (ipykernel)",
   "language": "python",
   "name": "python3"
  },
  "language_info": {
   "codemirror_mode": {
    "name": "ipython",
    "version": 3
   },
   "file_extension": ".py",
   "mimetype": "text/x-python",
   "name": "python",
   "nbconvert_exporter": "python",
   "pygments_lexer": "ipython3",
   "version": "3.8.5"
  }
 },
 "nbformat": 4,
 "nbformat_minor": 5
}
